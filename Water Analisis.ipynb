{
 "cells": [
  {
   "cell_type": "code",
   "execution_count": null,
   "metadata": {},
   "outputs": [],
   "source": []
  },
  {
   "cell_type": "markdown",
   "metadata": {},
   "source": [
    "Before continue ensure that the Libraries Importation cell runs without any errors. If so continue to run the rest of the file, otherwise assure all dependencies are properly installed. To do so, run in a terminal the following commands:\n",
    "```\n",
    "pip3 install matplotlib\n",
    "pip3 install pandas\n",
    "pip3 install openpyxl\n",
    "```"
   ]
  },
  {
   "cell_type": "code",
   "execution_count": 29,
   "metadata": {},
   "outputs": [],
   "source": [
    "import matplotlib.pyplot as plt\n",
    "from pprint import pprint\n",
    "from datetime import datetime\n",
    "import pandas as pd\n",
    "import numpy as np\n",
    "import os"
   ]
  },
  {
   "cell_type": "code",
   "execution_count": 15,
   "metadata": {},
   "outputs": [],
   "source": [
    "def database_compiler (start_year, end_year, export=False):\n",
    "    dataframe = pd.DataFrame()\n",
    "    for year in range(start_year, end_year, 5):\n",
    "        filedata = pd.read_excel(\"RQAS TIET04200 - {}-{}.xlsx\".format(year, year + 5))\n",
    "        dataframe = dataframe.append(filedata, ignore_index=True)\n",
    "    if export:\n",
    "        dataframe.to_excel(\"RQAS TIET04200 - 1976-2021.xlsx\", index=False)\n",
    "    else:\n",
    "        return dataframe"
   ]
  },
  {
   "cell_type": "code",
   "execution_count": 37,
   "metadata": {},
   "outputs": [
    {
     "name": "stdout",
     "output_type": "stream",
     "text": [
      "<class 'pandas.core.frame.DataFrame'>\n",
      "RangeIndex: 10172 entries, 0 to 10171\n",
      "Data columns (total 26 columns):\n",
      " #   Column                   Non-Null Count  Dtype         \n",
      "---  ------                   --------------  -----         \n",
      " 0   Período DE               10172 non-null  datetime64[ns]\n",
      " 1   Período ATE              10172 non-null  datetime64[ns]\n",
      " 2   Cod_Interaguas           10172 non-null  int64         \n",
      " 3   Tipo Rede                10172 non-null  object        \n",
      " 4   UGRHI                    10172 non-null  object        \n",
      " 5   Código Ponto             10172 non-null  object        \n",
      " 6   Status Ponto             10172 non-null  object        \n",
      " 7   Data Coleta              10172 non-null  datetime64[ns]\n",
      " 8   Hora Coleta              10172 non-null  object        \n",
      " 9   Parametro                10172 non-null  object        \n",
      " 10  Sinal                    1418 non-null   object        \n",
      " 11  Valor                    10172 non-null  object        \n",
      " 12  Unidade                  10172 non-null  object        \n",
      " 13  Tipo Parâmetro           10172 non-null  object        \n",
      " 14  Sistema Hídrico          10172 non-null  object        \n",
      " 15  Tipo de Sistema Hídrico  10172 non-null  object        \n",
      " 16  CLASSE                   10172 non-null  object        \n",
      " 17  Município                10172 non-null  object        \n",
      " 18  UF                       10172 non-null  object        \n",
      " 19  Inicio Operação          10172 non-null  object        \n",
      " 20  Fim Operação             0 non-null      float64       \n",
      " 21  Latitude                 10172 non-null  object        \n",
      " 22  Longitude                10172 non-null  object        \n",
      " 23  Altitude                 10172 non-null  int64         \n",
      " 24  Localização              10172 non-null  object        \n",
      " 25  Captação                 10172 non-null  object        \n",
      "dtypes: datetime64[ns](3), float64(1), int64(2), object(20)\n",
      "memory usage: 2.0+ MB\n"
     ]
    }
   ],
   "source": [
    "# Checks if the concatenated file exists, otherwise load each individual file and concatenate them:\n",
    "if not os.path.exists(\"RQAS TIET04200 - 1976-2021.xlsx\"):\n",
    "    database_compiler(1976,2021, export=True)\n",
    "\n",
    "\n",
    "dateparse = lambda dates: [datetime.strptime(date, \"%d/%m/%Y\") for d in dates]\n",
    "# Loads the concatenated file:\n",
    "df = pd.read_excel(\"RQAS TIET04200 - 1976-2021.xlsx\")"
   ]
  },
  {
   "cell_type": "code",
   "execution_count": 46,
   "metadata": {},
   "outputs": [
    {
     "name": "stdout",
     "output_type": "stream",
     "text": [
      "<class 'pandas.core.frame.DataFrame'>\n",
      "RangeIndex: 10172 entries, 0 to 10171\n",
      "Data columns (total 26 columns):\n",
      " #   Column                   Non-Null Count  Dtype         \n",
      "---  ------                   --------------  -----         \n",
      " 0   Período DE               10172 non-null  datetime64[ns]\n",
      " 1   Período ATE              10172 non-null  datetime64[ns]\n",
      " 2   Cod_Interaguas           10172 non-null  int64         \n",
      " 3   Tipo Rede                10172 non-null  object        \n",
      " 4   UGRHI                    10172 non-null  object        \n",
      " 5   Código Ponto             10172 non-null  object        \n",
      " 6   Status Ponto             10172 non-null  object        \n",
      " 7   Data Coleta              10172 non-null  datetime64[ns]\n",
      " 8   Hora Coleta              10172 non-null  object        \n",
      " 9   Parametro                10172 non-null  object        \n",
      " 10  Sinal                    1418 non-null   object        \n",
      " 11  Valor                    10172 non-null  object        \n",
      " 12  Unidade                  10172 non-null  object        \n",
      " 13  Tipo Parâmetro           10172 non-null  object        \n",
      " 14  Sistema Hídrico          10172 non-null  object        \n",
      " 15  Tipo de Sistema Hídrico  10172 non-null  object        \n",
      " 16  CLASSE                   10172 non-null  object        \n",
      " 17  Município                10172 non-null  object        \n",
      " 18  UF                       10172 non-null  object        \n",
      " 19  Inicio Operação          10172 non-null  object        \n",
      " 20  Fim Operação             0 non-null      float64       \n",
      " 21  Latitude                 10172 non-null  object        \n",
      " 22  Longitude                10172 non-null  object        \n",
      " 23  Altitude                 10172 non-null  int64         \n",
      " 24  Localização              10172 non-null  object        \n",
      " 25  Captação                 10172 non-null  object        \n",
      "dtypes: datetime64[ns](3), float64(1), int64(2), object(20)\n",
      "memory usage: 2.0+ MB\n"
     ]
    }
   ],
   "source": [
    "df['Período DE'] = pd.to_datetime(df['Período DE'], infer_datetime_format=True)\n",
    "df['Período ATE'] = pd.to_datetime(df['Período ATE'], infer_datetime_format=True)\n",
    "\n",
    "df['Data Coleta'] = pd.to_datetime(df['Data Coleta'], infer_datetime_format=True)\n",
    "\n",
    "df['Valor']=df['Valor'].replace(',','.',regex=True)\n",
    "df.info()"
   ]
  },
  {
   "cell_type": "code",
   "execution_count": 17,
   "metadata": {},
   "outputs": [
    {
     "data": {
      "text/plain": [
       "array(['pH', 'Temperatura da Água', 'Temperatura do Ar',\n",
       "       'Subst. Tensoat. reagem c/ Azul Metileno', 'Turbidez',\n",
       "       'Fenóis Totais', 'Nitrogênio Kjeldahl', 'Nitrogênio-Nitrito',\n",
       "       'Nitrogênio-Nitrato', 'Nitrogênio Amoniacal',\n",
       "       'Oxigênio Dissolvido', 'DBO (5, 20)', 'DQO',\n",
       "       'Sólido Dissolvido Total', 'Sólido Total', 'Sólido Volátil Total',\n",
       "       'Fósforo Total', 'Cloreto Total', 'Crômio Total', 'Manganês Total',\n",
       "       'Ferro Total', 'Ferro Dissolvido', 'Níquel Total', 'Cobre Total',\n",
       "       'Zinco Total', 'Coliformes Totais - TTM',\n",
       "       'Coliformes Termotolerantes', 'Estanho Total', 'Bário Total',\n",
       "       'Mercúrio Total', 'Chumbo Total', 'Coloração',\n",
       "       'Chuvas nas últimas 24h', 'Sólido Fixo', 'Cádmio Total',\n",
       "       'Sólido Suspenso Total', 'Condutividade', 'Fósforo-Ortofosfato',\n",
       "       'Alumínio Total', 'Sulfato Total', 'Arsênio Total',\n",
       "       'Carbono Orgânico Total', 'Sólido Dissolvido Fixo',\n",
       "       'Alumínio Dissolvido', 'Cobre Dissolvido',\n",
       "       'Carbono Orgânico Dissolvido', 'Sódio', 'Potássio', 'Benzeno',\n",
       "       'Ens. Ecotoxic. c/ Vibrio fischeri', 'Escherichia coli**',\n",
       "       'Estireno', 'm,p-Xileno', 'o-Xileno', 'Óleos e Graxas', 'Tolueno',\n",
       "       'Etilbenzeno', 'Fluoreto Total', 'Dureza', 'Vazão (m3/s)',\n",
       "       'Nitrogênio Total', 'Cálcio Total', 'Magnésio Total',\n",
       "       'Profundidade da Coleta'], dtype=object)"
      ]
     },
     "execution_count": 17,
     "metadata": {},
     "output_type": "execute_result"
    }
   ],
   "source": [
    "df['Parametro'].unique()"
   ]
  },
  {
   "cell_type": "code",
   "execution_count": 57,
   "metadata": {},
   "outputs": [],
   "source": [
    "# Creates a df copy for a given parameter to avoid the case where changing the original df also changes these:\n",
    "def df_by_parameter(parameter):\n",
    "    df_slice = df.loc[df['Parametro'] == parameter , ['Data Coleta', 'Valor']].copy()\n",
    "    df_slice['Valor'] = pd.to_numeric(df_slice['Valor'])\n",
    "    return df_slice\n",
    "# Creates a df copy for each relevant parameter:\n",
    "df_pH = df_by_parameter('pH')\n",
    "df_Fos = df_by_parameter('Fósforo Total')\n",
    "df_DBO = df_by_parameter('DBO (5, 20)')\n",
    "df_Nit = df_by_parameter('Nitrogênio Total')\n",
    "df_ColFec = df_by_parameter('Coliformes Totais - TTM')\n",
    "df_Temp = df_by_parameter('Temperatura da Água')\n",
    "df_Turb = df_by_parameter('Turbidez')\n",
    "df_Res = df_by_parameter('Sólido Total')\n",
    "def_OxDis = df_by_parameter('Oxogênio Dissolvido')"
   ]
  },
  {
   "cell_type": "code",
   "execution_count": 59,
   "metadata": {},
   "outputs": [
    {
     "name": "stdout",
     "output_type": "stream",
     "text": [
      "<class 'pandas.core.frame.DataFrame'>\n",
      "Int64Index: 305 entries, 0 to 10129\n",
      "Data columns (total 2 columns):\n",
      " #   Column       Non-Null Count  Dtype         \n",
      "---  ------       --------------  -----         \n",
      " 0   Data Coleta  305 non-null    datetime64[ns]\n",
      " 1   Valor        305 non-null    float64       \n",
      "dtypes: datetime64[ns](1), float64(1)\n",
      "memory usage: 7.1 KB\n"
     ]
    }
   ],
   "source": [
    "df_pH.info()"
   ]
  },
  {
   "cell_type": "code",
   "execution_count": 62,
   "metadata": {},
   "outputs": [
    {
     "data": {
      "image/png": "[encoded data removed]",
      "text/plain": [
       "<Figure size 432x288 with 1 Axes>"
      ]
     },
     "metadata": {
      "needs_background": "light"
     },
     "output_type": "display_data"
    }
   ],
   "source": [
    "df_parameters_list = [df_pH, df_Fos, df_DBO, df_Nit, df_ColFec, df_Temp, df_Turb, df_Res, def_OxDis]\n",
    "\n",
    "for df_parameter in df_parameters_list:\n",
    "    \n",
    "plt.scatter(df_pH['Data Coleta'], df_pH['Valor'])\n",
    "plt.grid()\n",
    "plt.show()\n",
    "\n"
   ]
  },
  {
   "cell_type": "code",
   "execution_count": null,
   "metadata": {},
   "outputs": [],
   "source": [
    "w1, w2, w3, w4, w5, w6, w7, w8, w9 = [0.10, 0.12, 0.10, 0.10, 0.15, 0.10, 0.08, 0.17]\n",
    "\n",
    "def df_IQA ():\n",
    "    "
   ]
  }
 ],
 "metadata": {
  "interpreter": {
   "hash": "9c688c3da5bd2a32d81bf7eab5b87f3347d8796b309d332b5605ebd5586bf298"
  },
  "kernelspec": {
   "display_name": "Python 3.9.7 64-bit",
   "name": "python3"
  },
  "language_info": {
   "codemirror_mode": {
    "name": "ipython",
    "version": 3
   },
   "file_extension": ".py",
   "mimetype": "text/x-python",
   "name": "python",
   "nbconvert_exporter": "python",
   "pygments_lexer": "ipython3",
   "version": "3.9.7"
  },
  "orig_nbformat": 4
 },
 "nbformat": 4,
 "nbformat_minor": 2
}
